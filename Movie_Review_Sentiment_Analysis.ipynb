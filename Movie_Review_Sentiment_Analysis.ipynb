{
  "nbformat": 4,
  "nbformat_minor": 0,
  "metadata": {
    "colab": {
      "provenance": []
    },
    "kernelspec": {
      "name": "python3",
      "display_name": "Python 3"
    },
    "language_info": {
      "name": "python"
    }
  },
  "cells": [
    {
      "cell_type": "code",
      "execution_count": null,
      "metadata": {
        "id": "Gp8stAtk8I1D"
      },
      "outputs": [],
      "source": [
        "import numpy as np\n",
        "import pandas as pd\n",
        "from google.colab import drive\n",
        "import string \n",
        "import nltk\n",
        "from nltk.corpus import stopwords\n",
        "import matplotlib.pyplot as plt \n",
        "import math\n",
        "from matplotlib import rc\n",
        "from sklearn.model_selection import train_test_split \n",
        "from sklearn.metrics import accuracy_score\n",
        "from sklearn.metrics import classification_report, confusion_matrix\n",
        "\n",
        "%matplotlib inline\n",
        "\n",
        "RANDOM_SEED = 42\n",
        "np.random.seed(RANDOM_SEED)\n"
      ]
    },
    {
      "cell_type": "code",
      "source": [
        "! gdown --id 1vexo0MMtjPzSv5CONn5t8QH3IKvewedk\n",
        "reviewData = pd.read_csv(\"/content/labeledTrainData.tsv\", delimiter=\"\\t\")\n",
        "reviewData.head()"
      ],
      "metadata": {
        "colab": {
          "base_uri": "https://localhost:8080/",
          "height": 310
        },
        "id": "yOnDiqRQh7et",
        "outputId": "3d3f29fb-b27d-4dff-d717-aec7a11e5098"
      },
      "execution_count": null,
      "outputs": [
        {
          "output_type": "stream",
          "name": "stdout",
          "text": [
            "/usr/local/lib/python3.8/dist-packages/gdown/cli.py:127: FutureWarning: Option `--id` was deprecated in version 4.3.1 and will be removed in 5.0. You don't need to pass it anymore to use a file ID.\n",
            "  warnings.warn(\n",
            "Downloading...\n",
            "From: https://drive.google.com/uc?id=1vexo0MMtjPzSv5CONn5t8QH3IKvewedk\n",
            "To: /content/labeledTrainData.tsv\n",
            "100% 33.6M/33.6M [00:00<00:00, 38.2MB/s]\n"
          ]
        },
        {
          "output_type": "execute_result",
          "data": {
            "text/plain": [
              "       id  sentiment                                             review\n",
              "0  5814_8          1  With all this stuff going down at the moment w...\n",
              "1  2381_9          1  \\The Classic War of the Worlds\\\" by Timothy Hi...\n",
              "2  7759_3          0  The film starts with a manager (Nicholas Bell)...\n",
              "3  3630_4          0  It must be assumed that those who praised this...\n",
              "4  9495_8          1  Superbly trashy and wondrously unpretentious 8..."
            ],
            "text/html": [
              "\n",
              "  <div id=\"df-52ae0ee2-09bf-4b63-ab41-49fb4fb97451\">\n",
              "    <div class=\"colab-df-container\">\n",
              "      <div>\n",
              "<style scoped>\n",
              "    .dataframe tbody tr th:only-of-type {\n",
              "        vertical-align: middle;\n",
              "    }\n",
              "\n",
              "    .dataframe tbody tr th {\n",
              "        vertical-align: top;\n",
              "    }\n",
              "\n",
              "    .dataframe thead th {\n",
              "        text-align: right;\n",
              "    }\n",
              "</style>\n",
              "<table border=\"1\" class=\"dataframe\">\n",
              "  <thead>\n",
              "    <tr style=\"text-align: right;\">\n",
              "      <th></th>\n",
              "      <th>id</th>\n",
              "      <th>sentiment</th>\n",
              "      <th>review</th>\n",
              "    </tr>\n",
              "  </thead>\n",
              "  <tbody>\n",
              "    <tr>\n",
              "      <th>0</th>\n",
              "      <td>5814_8</td>\n",
              "      <td>1</td>\n",
              "      <td>With all this stuff going down at the moment w...</td>\n",
              "    </tr>\n",
              "    <tr>\n",
              "      <th>1</th>\n",
              "      <td>2381_9</td>\n",
              "      <td>1</td>\n",
              "      <td>\\The Classic War of the Worlds\\\" by Timothy Hi...</td>\n",
              "    </tr>\n",
              "    <tr>\n",
              "      <th>2</th>\n",
              "      <td>7759_3</td>\n",
              "      <td>0</td>\n",
              "      <td>The film starts with a manager (Nicholas Bell)...</td>\n",
              "    </tr>\n",
              "    <tr>\n",
              "      <th>3</th>\n",
              "      <td>3630_4</td>\n",
              "      <td>0</td>\n",
              "      <td>It must be assumed that those who praised this...</td>\n",
              "    </tr>\n",
              "    <tr>\n",
              "      <th>4</th>\n",
              "      <td>9495_8</td>\n",
              "      <td>1</td>\n",
              "      <td>Superbly trashy and wondrously unpretentious 8...</td>\n",
              "    </tr>\n",
              "  </tbody>\n",
              "</table>\n",
              "</div>\n",
              "      <button class=\"colab-df-convert\" onclick=\"convertToInteractive('df-52ae0ee2-09bf-4b63-ab41-49fb4fb97451')\"\n",
              "              title=\"Convert this dataframe to an interactive table.\"\n",
              "              style=\"display:none;\">\n",
              "        \n",
              "  <svg xmlns=\"http://www.w3.org/2000/svg\" height=\"24px\"viewBox=\"0 0 24 24\"\n",
              "       width=\"24px\">\n",
              "    <path d=\"M0 0h24v24H0V0z\" fill=\"none\"/>\n",
              "    <path d=\"M18.56 5.44l.94 2.06.94-2.06 2.06-.94-2.06-.94-.94-2.06-.94 2.06-2.06.94zm-11 1L8.5 8.5l.94-2.06 2.06-.94-2.06-.94L8.5 2.5l-.94 2.06-2.06.94zm10 10l.94 2.06.94-2.06 2.06-.94-2.06-.94-.94-2.06-.94 2.06-2.06.94z\"/><path d=\"M17.41 7.96l-1.37-1.37c-.4-.4-.92-.59-1.43-.59-.52 0-1.04.2-1.43.59L10.3 9.45l-7.72 7.72c-.78.78-.78 2.05 0 2.83L4 21.41c.39.39.9.59 1.41.59.51 0 1.02-.2 1.41-.59l7.78-7.78 2.81-2.81c.8-.78.8-2.07 0-2.86zM5.41 20L4 18.59l7.72-7.72 1.47 1.35L5.41 20z\"/>\n",
              "  </svg>\n",
              "      </button>\n",
              "      \n",
              "  <style>\n",
              "    .colab-df-container {\n",
              "      display:flex;\n",
              "      flex-wrap:wrap;\n",
              "      gap: 12px;\n",
              "    }\n",
              "\n",
              "    .colab-df-convert {\n",
              "      background-color: #E8F0FE;\n",
              "      border: none;\n",
              "      border-radius: 50%;\n",
              "      cursor: pointer;\n",
              "      display: none;\n",
              "      fill: #1967D2;\n",
              "      height: 32px;\n",
              "      padding: 0 0 0 0;\n",
              "      width: 32px;\n",
              "    }\n",
              "\n",
              "    .colab-df-convert:hover {\n",
              "      background-color: #E2EBFA;\n",
              "      box-shadow: 0px 1px 2px rgba(60, 64, 67, 0.3), 0px 1px 3px 1px rgba(60, 64, 67, 0.15);\n",
              "      fill: #174EA6;\n",
              "    }\n",
              "\n",
              "    [theme=dark] .colab-df-convert {\n",
              "      background-color: #3B4455;\n",
              "      fill: #D2E3FC;\n",
              "    }\n",
              "\n",
              "    [theme=dark] .colab-df-convert:hover {\n",
              "      background-color: #434B5C;\n",
              "      box-shadow: 0px 1px 3px 1px rgba(0, 0, 0, 0.15);\n",
              "      filter: drop-shadow(0px 1px 2px rgba(0, 0, 0, 0.3));\n",
              "      fill: #FFFFFF;\n",
              "    }\n",
              "  </style>\n",
              "\n",
              "      <script>\n",
              "        const buttonEl =\n",
              "          document.querySelector('#df-52ae0ee2-09bf-4b63-ab41-49fb4fb97451 button.colab-df-convert');\n",
              "        buttonEl.style.display =\n",
              "          google.colab.kernel.accessAllowed ? 'block' : 'none';\n",
              "\n",
              "        async function convertToInteractive(key) {\n",
              "          const element = document.querySelector('#df-52ae0ee2-09bf-4b63-ab41-49fb4fb97451');\n",
              "          const dataTable =\n",
              "            await google.colab.kernel.invokeFunction('convertToInteractive',\n",
              "                                                     [key], {});\n",
              "          if (!dataTable) return;\n",
              "\n",
              "          const docLinkHtml = 'Like what you see? Visit the ' +\n",
              "            '<a target=\"_blank\" href=https://colab.research.google.com/notebooks/data_table.ipynb>data table notebook</a>'\n",
              "            + ' to learn more about interactive tables.';\n",
              "          element.innerHTML = '';\n",
              "          dataTable['output_type'] = 'display_data';\n",
              "          await google.colab.output.renderOutput(dataTable, element);\n",
              "          const docLink = document.createElement('div');\n",
              "          docLink.innerHTML = docLinkHtml;\n",
              "          element.appendChild(docLink);\n",
              "        }\n",
              "      </script>\n",
              "    </div>\n",
              "  </div>\n",
              "  "
            ]
          },
          "metadata": {},
          "execution_count": 2
        }
      ]
    },
    {
      "cell_type": "code",
      "source": [
        "reviewsAll = reviewData['review'].values\n",
        "sentimentsAll = reviewData['sentiment'].values\n",
        "reviews, reviews_test, sentiments, sentiments_test = train_test_split(reviewsAll, sentimentsAll, test_size=0.2, random_state=RANDOM_SEED)\n",
        "sentimentClasses = np.unique(sentimentsAll)\n"
      ],
      "metadata": {
        "id": "yyFzSY6m-jP_"
      },
      "execution_count": null,
      "outputs": []
    },
    {
      "cell_type": "code",
      "source": [
        "ReviewsByClass = {} \n",
        "ReviewsByClass[0] = []\n",
        "ReviewsByClass[1] = []\n",
        "for i in range(len(sentiments)):\n",
        "  if sentiments[i] == 0:\n",
        "    ReviewsByClass[0].append(reviews[i])\n",
        "  else:\n",
        "    ReviewsByClass[1].append(reviews[i])\n"
      ],
      "metadata": {
        "id": "NkU8xyNhV0nN"
      },
      "execution_count": null,
      "outputs": []
    },
    {
      "cell_type": "code",
      "source": [
        "PriorProbabilityByClass = {}\n",
        "for i in range(2):\n",
        "  PriorProbabilityByClass[i] = math.log(len(ReviewsByClass[i])/len(reviewsAll))\n",
        "print(PriorProbabilityByClass)"
      ],
      "metadata": {
        "id": "rMukh4GuI3kE",
        "colab": {
          "base_uri": "https://localhost:8080/"
        },
        "outputId": "7a8c31dd-94b5-4201-b38f-04f7f3d5225c"
      },
      "execution_count": null,
      "outputs": [
        {
          "output_type": "stream",
          "name": "stdout",
          "text": [
            "{0: -0.9143925345910748, 1: -0.9181925391637514}\n"
          ]
        }
      ]
    },
    {
      "cell_type": "code",
      "source": [
        "def tokenize(review):\n",
        "    review = review.lower()\n",
        "    review = review.replace(\"\\\\\", '')\n",
        "    review = review.split()\n",
        "    return review\n"
      ],
      "metadata": {
        "id": "ETxVqKnyLj--"
      },
      "execution_count": null,
      "outputs": []
    },
    {
      "cell_type": "code",
      "source": [
        "BagOfWordsByClass = {}\n",
        "BagOfWordsByClass[0] = {}\n",
        "BagOfWordsByClass[1] = {}\n",
        "vocab = set()\n",
        "\n",
        "for j in range(2): \n",
        "  for i in range(len(ReviewsByClass[j])):\n",
        "    words = tokenize(ReviewsByClass[j][i])\n",
        "    for k in range(len(words)):\n",
        "      if words[k] in BagOfWordsByClass[j]:\n",
        "        BagOfWordsByClass[j][words[k]] += 1\n",
        "      else:\n",
        "        BagOfWordsByClass[j][words[k]] = 1\n",
        "        vocab.add(words[k])\n"
      ],
      "metadata": {
        "id": "Hub7IQ7hLyu_"
      },
      "execution_count": null,
      "outputs": []
    },
    {
      "cell_type": "code",
      "source": [
        "posWordsInClass = sum(BagOfWordsByClass[1].values())\n",
        "negWordsInClass = sum(BagOfWordsByClass[0].values())\n",
        "\n",
        "def computePosteriorProbs(word, c, reviewsByClass, bagOfWordsByClass):\n",
        "  if word not in bagOfWordsByClass[c]:\n",
        "    bagOfWordsByClass[c][word] = 0\n",
        "  if c == 1:\n",
        "    wordsInClass = posWordsInClass\n",
        "  else: \n",
        "    wordsInClass = negWordsInClass\n",
        "  computePosteriorProbs = math.log((bagOfWordsByClass[c][word] + 1)/(wordsInClass + len(vocab)))\n",
        "  return computePosteriorProbs\n"
      ],
      "metadata": {
        "id": "haMWYH8dL3gF"
      },
      "execution_count": null,
      "outputs": []
    },
    {
      "cell_type": "code",
      "source": [
        "classified_sentiments = [] \n",
        "\n",
        "for i in range(len(reviews_test)):\n",
        "  reviewWords = tokenize(reviews_test[i])\n",
        "  negProbability = PriorProbabilityByClass[0]\n",
        "  posProbability = PriorProbabilityByClass[1]\n",
        "  for word in reviewWords:\n",
        "    if word in vocab:\n",
        "      negProbability += computePosteriorProbs(word, 0, ReviewsByClass, BagOfWordsByClass)\n",
        "      posProbability += computePosteriorProbs(word, 1, ReviewsByClass, BagOfWordsByClass)\n",
        "  if negProbability > posProbability:\n",
        "    classified_sentiments.append(0)\n",
        "  else:\n",
        "    classified_sentiments.append(1)\n",
        "          "
      ],
      "metadata": {
        "id": "vGWA---y-Jsh"
      },
      "execution_count": null,
      "outputs": []
    },
    {
      "cell_type": "code",
      "source": [
        "\n",
        "accuracy_score(sentiments_test, classified_sentiments)"
      ],
      "metadata": {
        "id": "J8RrHkNJM_Kx",
        "colab": {
          "base_uri": "https://localhost:8080/"
        },
        "outputId": "dfd56669-eaf9-42dc-8134-623161367e28"
      },
      "execution_count": null,
      "outputs": [
        {
          "output_type": "execute_result",
          "data": {
            "text/plain": [
              "0.8476"
            ]
          },
          "metadata": {},
          "execution_count": 10
        }
      ]
    },
    {
      "cell_type": "code",
      "source": [
        "classification_report(sentiments_test, classified_sentiments)"
      ],
      "metadata": {
        "id": "xGd0y932Mu_O",
        "colab": {
          "base_uri": "https://localhost:8080/",
          "height": 52
        },
        "outputId": "d81f655a-c70c-464b-9879-722f04b4dfb3"
      },
      "execution_count": null,
      "outputs": [
        {
          "output_type": "execute_result",
          "data": {
            "text/plain": [
              "'              precision    recall  f1-score   support\\n\\n           0       0.83      0.87      0.85      2481\\n           1       0.86      0.83      0.85      2519\\n\\n    accuracy                           0.85      5000\\n   macro avg       0.85      0.85      0.85      5000\\nweighted avg       0.85      0.85      0.85      5000\\n'"
            ],
            "application/vnd.google.colaboratory.intrinsic+json": {
              "type": "string"
            }
          },
          "metadata": {},
          "execution_count": 11
        }
      ]
    },
    {
      "cell_type": "code",
      "source": [
        "def drawConfusionMatrix():\n",
        "  cnf_data = confusion_matrix(sentiments_test, classified_sentiments)\n",
        "  figure = plt.figure()\n",
        "  axes = figure.add_subplot(111)\n",
        "  caxes = axes.matshow(cnf_data, cmap='Blues')\n",
        "  plt.title('Confusion Matrix')\n",
        "  axes.set_xlabel(\"Predicted sentiment\")\n",
        "  axes.set_ylabel(\"Actual sentiment\")\n",
        "  axes.tick_params(axis=\"x\", bottom=True, top=False, labelbottom=True, labeltop=False)\n",
        "  axes.tick_params(axis=\"y\", left=True, labelleft=True, rotation=90)\n",
        "  labels = ['positive', 'negative']\n",
        "  axes.set_xticklabels(['']+labels)\n",
        "  axes.set_yticklabels(['']+labels)\n",
        "  for (i, j), z in np.ndenumerate(cnf_data):\n",
        "      axes.text(j, i, '{}'.format(z), ha='center', va='center', fontsize=15,\n",
        "                bbox=dict(boxstyle='round', facecolor='white'))\n",
        "  plt.grid(False)\n",
        "  plt.show()"
      ],
      "metadata": {
        "id": "Yvkn6uy16w3m"
      },
      "execution_count": null,
      "outputs": []
    },
    {
      "cell_type": "code",
      "source": [
        "drawConfusionMatrix()"
      ],
      "metadata": {
        "id": "CR6In4MaGzre",
        "colab": {
          "base_uri": "https://localhost:8080/",
          "height": 306
        },
        "outputId": "aa7f2b5d-ae1c-4706-995d-61802c250ea5"
      },
      "execution_count": null,
      "outputs": [
        {
          "output_type": "display_data",
          "data": {
            "text/plain": [
              "<Figure size 432x288 with 1 Axes>"
            ],
            "image/png": "[encoded data removed]"
          },
          "metadata": {
            "needs_background": "light"
          }
        }
      ]
    }
  ]
}